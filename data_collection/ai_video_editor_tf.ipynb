{
  "nbformat": 4,
  "nbformat_minor": 0,
  "metadata": {
    "colab": {
      "name": "ai_video_editor_tf.ipynb",
      "provenance": []
    },
    "kernelspec": {
      "display_name": "Python 3",
      "name": "python3"
    }
  },
  "cells": [
    {
      "cell_type": "markdown",
      "metadata": {
        "id": "ckcEEdMLtvK7"
      },
      "source": [
        "# AI video editor"
      ]
    },
    {
      "cell_type": "markdown",
      "metadata": {
        "id": "Bmug2ziQtxKp"
      },
      "source": [
        "### Setup\n",
        "\n"
      ]
    },
    {
      "cell_type": "code",
      "metadata": {
        "id": "EYnJH6Yfs2y4",
        "outputId": "40b06e45-fde5-4c73-f5eb-85c03fbca0da",
        "colab": {
          "base_uri": "https://localhost:8080/"
        }
      },
      "source": [
        "%tensorflow_version 2.x\n",
        "!pip install -q sklearn\n",
        "!pip install pyyaml h5py\n",
        "\n",
        "from sklearn import model_selection\n",
        "from sklearn.utils import shuffle\n",
        "\n",
        "import os\n",
        "import tensorflow as tf\n",
        "import keras as keras\n",
        "import pandas as pd\n",
        "import matplotlib.pyplot as plt"
      ],
      "execution_count": 1,
      "outputs": [
        {
          "output_type": "stream",
          "text": [
            "Requirement already satisfied: pyyaml in /usr/local/lib/python3.6/dist-packages (3.13)\n",
            "Requirement already satisfied: h5py in /usr/local/lib/python3.6/dist-packages (2.10.0)\n",
            "Requirement already satisfied: numpy>=1.7 in /usr/local/lib/python3.6/dist-packages (from h5py) (1.18.5)\n",
            "Requirement already satisfied: six in /usr/local/lib/python3.6/dist-packages (from h5py) (1.15.0)\n"
          ],
          "name": "stdout"
        }
      ]
    },
    {
      "cell_type": "markdown",
      "metadata": {
        "id": "U_pbHqZpuB63"
      },
      "source": [
        "## Data"
      ]
    },
    {
      "cell_type": "markdown",
      "metadata": {
        "id": "reRirJfmGrbr"
      },
      "source": [
        "### Data urls"
      ]
    },
    {
      "cell_type": "code",
      "metadata": {
        "id": "CNcAqbqnuDX3"
      },
      "source": [
        "data_urls = [\n",
        "  \"https://raw.githubusercontent.com/EliasDolinsek/ai_video_cutter/master/data_collection/data/video_0.csv\",\n",
        "  # Not avialable \"https://raw.githubusercontent.com/EliasDolinsek/ai_video_cutter/master/data_collection/data/video_1.csv\",\n",
        "  \"https://raw.githubusercontent.com/EliasDolinsek/ai_video_cutter/master/data_collection/data/video_2.csv\",\n",
        "  \"https://raw.githubusercontent.com/EliasDolinsek/ai_video_cutter/master/data_collection/data/video_3.csv\",\n",
        "  \"https://raw.githubusercontent.com/EliasDolinsek/ai_video_cutter/master/data_collection/data/video_4.csv\",\n",
        "  \"https://raw.githubusercontent.com/EliasDolinsek/ai_video_cutter/master/data_collection/data/video_5.csv\",\n",
        "  \"https://raw.githubusercontent.com/EliasDolinsek/ai_video_cutter/master/data_collection/data/video_6.csv\",\n",
        "  # Not available \"https://raw.githubusercontent.com/EliasDolinsek/ai_video_cutter/master/data_collection/data/video_7.csv\",\n",
        "  \"https://raw.githubusercontent.com/EliasDolinsek/ai_video_cutter/master/data_collection/data/video_8.csv\",\n",
        "  \"https://raw.githubusercontent.com/EliasDolinsek/ai_video_cutter/master/data_collection/data/video_9.csv\",\n",
        "  \"https://raw.githubusercontent.com/EliasDolinsek/ai_video_cutter/master/data_collection/data/video_10.csv\",\n",
        "  \"https://raw.githubusercontent.com/EliasDolinsek/ai_video_cutter/master/data_collection/data/video_11.csv\",\n",
        "  # Not available \"https://raw.githubusercontent.com/EliasDolinsek/ai_video_cutter/master/data_collection/data/video_12.csv\",\n",
        "  \"https://raw.githubusercontent.com/EliasDolinsek/ai_video_cutter/master/data_collection/data/video_13.csv\",\n",
        "  \"https://raw.githubusercontent.com/EliasDolinsek/ai_video_cutter/master/data_collection/data/video_14.csv\",\n",
        "  \"https://raw.githubusercontent.com/EliasDolinsek/ai_video_cutter/master/data_collection/data/video_15.csv\",\n",
        "  \"https://raw.githubusercontent.com/EliasDolinsek/ai_video_cutter/master/data_collection/data/video_16.csv\",\n",
        "  \"https://raw.githubusercontent.com/EliasDolinsek/ai_video_cutter/master/data_collection/data/video_17.csv\",\n",
        "  \"https://raw.githubusercontent.com/EliasDolinsek/ai_video_cutter/master/data_collection/data/video_18.csv\",\n",
        "  # Not available \"https://raw.githubusercontent.com/EliasDolinsek/ai_video_cutter/master/data_collection/data/video_19.csv\",\n",
        "  \"https://raw.githubusercontent.com/EliasDolinsek/ai_video_cutter/master/data_collection/data/video_20.csv\",\n",
        "  \"https://raw.githubusercontent.com/EliasDolinsek/ai_video_cutter/master/data_collection/data/video_21.csv\",\n",
        "  \"https://raw.githubusercontent.com/EliasDolinsek/ai_video_cutter/master/data_collection/data/video_22.csv\",\n",
        "  \"https://raw.githubusercontent.com/EliasDolinsek/ai_video_cutter/master/data_collection/data/video_23.csv\",\n",
        "  # Not available \"https://raw.githubusercontent.com/EliasDolinsek/ai_video_cutter/master/data_collection/data/video_24.csv\",\n",
        "]\n",
        "\n",
        "test_url = \"https://raw.githubusercontent.com/EliasDolinsek/ai_video_cutter/master/data_collection/data/video_25.csv\""
      ],
      "execution_count": 4,
      "outputs": []
    },
    {
      "cell_type": "code",
      "metadata": {
        "id": "ZIvRvhfyuaDK"
      },
      "source": [
        "def get_data_from_urls(urls):\n",
        "  data = []\n",
        "  for data_url in urls:\n",
        "    fetched_content = pd.read_csv(data_url, index_col=0, header=0)\n",
        "\n",
        "    # remove timestamps\n",
        "    del fetched_content[\"start_timestamp\"]\n",
        "    del fetched_content[\"end_timestamp\"]\n",
        "\n",
        "    # remove white sapces\n",
        "    fetched_content.columns = fetched_content.columns.str.replace(' ', '')\n",
        "    data.append(fetched_content)\n",
        "  \n",
        "  return data"
      ],
      "execution_count": 5,
      "outputs": []
    },
    {
      "cell_type": "markdown",
      "metadata": {
        "id": "MJf1WQ0TGwhi"
      },
      "source": [
        "### Data gathering"
      ]
    },
    {
      "cell_type": "code",
      "metadata": {
        "id": "3Wqp1RilBdQ8"
      },
      "source": [
        "train_data = get_data_from_urls(data_urls)\n"
      ],
      "execution_count": 6,
      "outputs": []
    },
    {
      "cell_type": "code",
      "metadata": {
        "id": "nrkq1mkQG1s5"
      },
      "source": [
        "test_data = get_data_from_urls([test_url])"
      ],
      "execution_count": 7,
      "outputs": []
    },
    {
      "cell_type": "code",
      "metadata": {
        "id": "lcJVm_5QYHF1"
      },
      "source": [
        "def transform_to_data_list(data):\n",
        "  return (dataset[\"cut\"], dataset.drop(\"cut\", axis=1))"
      ],
      "execution_count": 8,
      "outputs": []
    },
    {
      "cell_type": "markdown",
      "metadata": {
        "id": "bWYViLEvG4QP"
      },
      "source": [
        "#### Train data"
      ]
    },
    {
      "cell_type": "code",
      "metadata": {
        "id": "a6uTApxpCSCl"
      },
      "source": [
        "y_train_data_list = []\n",
        "x_train_data_list = []\n",
        "\n",
        "for dataset in train_data:\n",
        "  y,x = transform_to_data_list(dataset)\n",
        "  y_train_data_list.append(y)\n",
        "  x_train_data_list.append(x)"
      ],
      "execution_count": 9,
      "outputs": []
    },
    {
      "cell_type": "markdown",
      "metadata": {
        "id": "eGu8wk-DG9Ac"
      },
      "source": [
        "#### Test data"
      ]
    },
    {
      "cell_type": "code",
      "metadata": {
        "id": "9kDXasWoC1ks"
      },
      "source": [
        "y_test_data_list = []\n",
        "x_test_data_list = []\n",
        "\n",
        "for dataset in test_data:\n",
        "  y,x = transform_to_data_list(dataset)\n",
        "  y_test_data_list.append(y)\n",
        "  x_test_data_list.append(x)"
      ],
      "execution_count": 10,
      "outputs": []
    },
    {
      "cell_type": "markdown",
      "metadata": {
        "id": "F3Yuo8uim31m"
      },
      "source": [
        "## Model"
      ]
    },
    {
      "cell_type": "markdown",
      "metadata": {
        "id": "heQcBTaWGnX-"
      },
      "source": [
        "### Create model"
      ]
    },
    {
      "cell_type": "code",
      "metadata": {
        "id": "WjpXFW_Dm5JT"
      },
      "source": [
        "model = keras.Sequential([\n",
        "    keras.layers.Flatten(input_shape=(68,)),  # input layer (1)\n",
        "    keras.layers.Dense(128, activation='relu'),  # hidden layer (2)\n",
        "    keras.layers.Dense(2, activation='softmax') # output layer (3)\n",
        "])"
      ],
      "execution_count": 11,
      "outputs": []
    },
    {
      "cell_type": "code",
      "metadata": {
        "id": "CT_q_qUS0T1d"
      },
      "source": [
        "model.compile(optimizer='adam',\n",
        "              loss='sparse_categorical_crossentropy',\n",
        "              metrics=['accuracy'])"
      ],
      "execution_count": 12,
      "outputs": []
    },
    {
      "cell_type": "code",
      "metadata": {
        "id": "Seg2dpOq8o6W",
        "outputId": "168a09b2-6445-4bd4-cdbf-9e4abd5a6290",
        "colab": {
          "base_uri": "https://localhost:8080/"
        }
      },
      "source": [
        "model.summary()"
      ],
      "execution_count": 13,
      "outputs": [
        {
          "output_type": "stream",
          "text": [
            "Model: \"sequential\"\n",
            "_________________________________________________________________\n",
            "Layer (type)                 Output Shape              Param #   \n",
            "=================================================================\n",
            "flatten (Flatten)            (None, 68)                0         \n",
            "_________________________________________________________________\n",
            "dense (Dense)                (None, 128)               8832      \n",
            "_________________________________________________________________\n",
            "dense_1 (Dense)              (None, 2)                 258       \n",
            "=================================================================\n",
            "Total params: 9,090\n",
            "Trainable params: 9,090\n",
            "Non-trainable params: 0\n",
            "_________________________________________________________________\n"
          ],
          "name": "stdout"
        }
      ]
    },
    {
      "cell_type": "markdown",
      "metadata": {
        "id": "Wu_31WvjEW56"
      },
      "source": [
        "### Train model"
      ]
    },
    {
      "cell_type": "code",
      "metadata": {
        "id": "hDYnVE_D8__e"
      },
      "source": [
        "checkpoint_path = \"training_1/cp.ckpt\"\n",
        "checkpoint_dir = os.path.dirname(checkpoint_path)\n",
        "\n",
        "# Create a callback that saves the model's weights\n",
        "cp_callback = tf.keras.callbacks.ModelCheckpoint(filepath=checkpoint_path,\n",
        "                                                 save_weights_only=True,\n",
        "                                                 verbose=1)"
      ],
      "execution_count": 14,
      "outputs": []
    },
    {
      "cell_type": "code",
      "metadata": {
        "id": "BIC9Ee9y0XLd",
        "outputId": "30d3e8b9-3fd9-4171-d7dc-6344cedd5677",
        "colab": {
          "base_uri": "https://localhost:8080/"
        }
      },
      "source": [
        "train_data_len = len(x_train_data_list)\n",
        "for x_data, y_data, index in zip(x_train_data_list, y_train_data_list, range(train_data_len)):\n",
        "  print(f\"Starting fitting {index}/{train_data_len}\")\n",
        "  model.fit(x_data, y_data, epochs=100, callbacks=[cp_callback], verbose=0)\n",
        "  print(\"\\nFinished fitting\\n\")"
      ],
      "execution_count": null,
      "outputs": [
        {
          "output_type": "stream",
          "text": [
            "Starting fitting 0/20\n",
            "\n",
            "Epoch 00001: saving model to training_1/cp.ckpt\n",
            "\n",
            "Epoch 00002: saving model to training_1/cp.ckpt\n",
            "\n",
            "Epoch 00003: saving model to training_1/cp.ckpt\n",
            "\n",
            "Epoch 00004: saving model to training_1/cp.ckpt\n",
            "\n",
            "Epoch 00005: saving model to training_1/cp.ckpt\n",
            "\n",
            "Epoch 00006: saving model to training_1/cp.ckpt\n",
            "\n",
            "Epoch 00007: saving model to training_1/cp.ckpt\n",
            "\n",
            "Epoch 00008: saving model to training_1/cp.ckpt\n",
            "\n",
            "Epoch 00009: saving model to training_1/cp.ckpt\n",
            "\n",
            "Epoch 00010: saving model to training_1/cp.ckpt\n",
            "\n",
            "Epoch 00011: saving model to training_1/cp.ckpt\n",
            "\n",
            "Epoch 00012: saving model to training_1/cp.ckpt\n",
            "\n",
            "Epoch 00013: saving model to training_1/cp.ckpt\n",
            "\n",
            "Epoch 00014: saving model to training_1/cp.ckpt\n",
            "\n",
            "Epoch 00015: saving model to training_1/cp.ckpt\n",
            "\n",
            "Epoch 00016: saving model to training_1/cp.ckpt\n",
            "\n",
            "Epoch 00017: saving model to training_1/cp.ckpt\n",
            "\n",
            "Epoch 00018: saving model to training_1/cp.ckpt\n",
            "\n",
            "Epoch 00019: saving model to training_1/cp.ckpt\n",
            "\n",
            "Epoch 00020: saving model to training_1/cp.ckpt\n",
            "\n",
            "Epoch 00021: saving model to training_1/cp.ckpt\n",
            "\n",
            "Epoch 00022: saving model to training_1/cp.ckpt\n",
            "\n",
            "Epoch 00023: saving model to training_1/cp.ckpt\n",
            "\n",
            "Epoch 00024: saving model to training_1/cp.ckpt\n",
            "\n",
            "Epoch 00025: saving model to training_1/cp.ckpt\n",
            "\n",
            "Epoch 00026: saving model to training_1/cp.ckpt\n",
            "\n",
            "Epoch 00027: saving model to training_1/cp.ckpt\n",
            "\n",
            "Epoch 00028: saving model to training_1/cp.ckpt\n",
            "\n",
            "Epoch 00029: saving model to training_1/cp.ckpt\n",
            "\n",
            "Epoch 00030: saving model to training_1/cp.ckpt\n",
            "\n",
            "Epoch 00031: saving model to training_1/cp.ckpt\n",
            "\n",
            "Epoch 00032: saving model to training_1/cp.ckpt\n",
            "\n",
            "Epoch 00033: saving model to training_1/cp.ckpt\n",
            "\n",
            "Epoch 00034: saving model to training_1/cp.ckpt\n",
            "\n",
            "Epoch 00035: saving model to training_1/cp.ckpt\n",
            "\n",
            "Epoch 00036: saving model to training_1/cp.ckpt\n",
            "\n",
            "Epoch 00037: saving model to training_1/cp.ckpt\n",
            "\n",
            "Epoch 00038: saving model to training_1/cp.ckpt\n",
            "\n",
            "Epoch 00039: saving model to training_1/cp.ckpt\n",
            "\n",
            "Epoch 00040: saving model to training_1/cp.ckpt\n",
            "\n",
            "Epoch 00041: saving model to training_1/cp.ckpt\n",
            "\n",
            "Epoch 00042: saving model to training_1/cp.ckpt\n",
            "\n",
            "Epoch 00043: saving model to training_1/cp.ckpt\n",
            "\n",
            "Epoch 00044: saving model to training_1/cp.ckpt\n",
            "\n",
            "Epoch 00045: saving model to training_1/cp.ckpt\n",
            "\n",
            "Epoch 00046: saving model to training_1/cp.ckpt\n",
            "\n",
            "Epoch 00047: saving model to training_1/cp.ckpt\n",
            "\n",
            "Epoch 00048: saving model to training_1/cp.ckpt\n",
            "\n",
            "Epoch 00049: saving model to training_1/cp.ckpt\n",
            "\n",
            "Epoch 00050: saving model to training_1/cp.ckpt\n",
            "\n",
            "Epoch 00051: saving model to training_1/cp.ckpt\n",
            "\n",
            "Epoch 00052: saving model to training_1/cp.ckpt\n",
            "\n",
            "Epoch 00053: saving model to training_1/cp.ckpt\n",
            "\n",
            "Epoch 00054: saving model to training_1/cp.ckpt\n",
            "\n",
            "Epoch 00055: saving model to training_1/cp.ckpt\n",
            "\n",
            "Epoch 00056: saving model to training_1/cp.ckpt\n",
            "\n",
            "Epoch 00057: saving model to training_1/cp.ckpt\n",
            "\n",
            "Epoch 00058: saving model to training_1/cp.ckpt\n",
            "\n",
            "Epoch 00059: saving model to training_1/cp.ckpt\n",
            "\n",
            "Epoch 00060: saving model to training_1/cp.ckpt\n",
            "\n",
            "Epoch 00061: saving model to training_1/cp.ckpt\n",
            "\n",
            "Epoch 00062: saving model to training_1/cp.ckpt\n",
            "\n",
            "Epoch 00063: saving model to training_1/cp.ckpt\n",
            "\n",
            "Epoch 00064: saving model to training_1/cp.ckpt\n",
            "\n",
            "Epoch 00065: saving model to training_1/cp.ckpt\n",
            "\n",
            "Epoch 00066: saving model to training_1/cp.ckpt\n",
            "\n",
            "Epoch 00067: saving model to training_1/cp.ckpt\n",
            "\n",
            "Epoch 00068: saving model to training_1/cp.ckpt\n",
            "\n",
            "Epoch 00069: saving model to training_1/cp.ckpt\n",
            "\n",
            "Epoch 00070: saving model to training_1/cp.ckpt\n"
          ],
          "name": "stdout"
        }
      ]
    },
    {
      "cell_type": "markdown",
      "metadata": {
        "id": "_WJBjATsH29J"
      },
      "source": [
        "### Save model"
      ]
    },
    {
      "cell_type": "code",
      "metadata": {
        "id": "JSEenw8jH1r0"
      },
      "source": [
        "model.save(\"ai_video_editor_model.h5\")"
      ],
      "execution_count": null,
      "outputs": []
    },
    {
      "cell_type": "markdown",
      "metadata": {
        "id": "-eObaW33E-3X"
      },
      "source": [
        "### Download model"
      ]
    },
    {
      "cell_type": "code",
      "metadata": {
        "id": "k-E47jK6FEzv"
      },
      "source": [
        "from google.colab import files\n",
        "files.download(\"ai_video_editor_model.h5\")"
      ],
      "execution_count": null,
      "outputs": []
    },
    {
      "cell_type": "markdown",
      "metadata": {
        "id": "A9b-UqA7Ebd4"
      },
      "source": [
        "### Load model"
      ]
    },
    {
      "cell_type": "code",
      "metadata": {
        "id": "WYBg4xtxEc4O"
      },
      "source": [
        "model = tf.keras.models.load_model('ai_video_editor_model.h5')"
      ],
      "execution_count": null,
      "outputs": []
    },
    {
      "cell_type": "markdown",
      "metadata": {
        "id": "We4EjfMuEvOM"
      },
      "source": [
        "### Test model"
      ]
    },
    {
      "cell_type": "code",
      "metadata": {
        "id": "81ACxyvjFMZI"
      },
      "source": [
        "for index, row in y_test_data_list[0].iteritems():\n",
        "  if row != 1:\n",
        "    y_test_data_list[0] = y_test_data_list[0].drop(index)\n",
        "    x_test_data_list[0] = x_test_data_list[0].drop(index)"
      ],
      "execution_count": null,
      "outputs": []
    },
    {
      "cell_type": "code",
      "metadata": {
        "id": "R5XzXoy10pt2",
        "outputId": "117f732c-309f-49cb-a518-4b3ba236b292",
        "colab": {
          "base_uri": "https://localhost:8080/"
        }
      },
      "source": [
        "test_data_len = len(x_test_data_list)\n",
        "for x_data, y_data, index in zip(x_test_data_list, y_test_data_list, range(test_data_len)):\n",
        "  test_loss, test_acc = model.evaluate(x_data, y_data, verbose=1) \n",
        "  print(f'Test accuracy of test data {index+1}/{test_data_len}:', test_acc)"
      ],
      "execution_count": null,
      "outputs": [
        {
          "output_type": "stream",
          "text": [
            "2/2 [==============================] - 0s 2ms/step - loss: 112.3771 - accuracy: 1.0000\n",
            "Test accuracy of test data 1/1: 1.0\n"
          ],
          "name": "stdout"
        }
      ]
    },
    {
      "cell_type": "markdown",
      "metadata": {
        "id": "SfssJ-FFH7bU"
      },
      "source": [
        "### Predict"
      ]
    },
    {
      "cell_type": "code",
      "metadata": {
        "id": "nOnpsyzeIR29",
        "outputId": "b87fd2a5-fac1-40ff-b99a-b5c5e82a976a",
        "colab": {
          "base_uri": "https://localhost:8080/",
          "height": 100
        }
      },
      "source": [
        "x_test_data_list[0].iloc[[0]]"
      ],
      "execution_count": null,
      "outputs": [
        {
          "output_type": "execute_result",
          "data": {
            "text/html": [
              "<div>\n",
              "<style scoped>\n",
              "    .dataframe tbody tr th:only-of-type {\n",
              "        vertical-align: middle;\n",
              "    }\n",
              "\n",
              "    .dataframe tbody tr th {\n",
              "        vertical-align: top;\n",
              "    }\n",
              "\n",
              "    .dataframe thead th {\n",
              "        text-align: right;\n",
              "    }\n",
              "</style>\n",
              "<table border=\"1\" class=\"dataframe\">\n",
              "  <thead>\n",
              "    <tr style=\"text-align: right;\">\n",
              "      <th></th>\n",
              "      <th>zcr</th>\n",
              "      <th>energy</th>\n",
              "      <th>energy_entropy</th>\n",
              "      <th>spectral_centroid</th>\n",
              "      <th>spectral_spread</th>\n",
              "      <th>spectral_entropy</th>\n",
              "      <th>spectral_flux</th>\n",
              "      <th>spectral_rolloff</th>\n",
              "      <th>mfcc_1</th>\n",
              "      <th>mfcc_2</th>\n",
              "      <th>mfcc_3</th>\n",
              "      <th>mfcc_4</th>\n",
              "      <th>mfcc_5</th>\n",
              "      <th>mfcc_6</th>\n",
              "      <th>mfcc_7</th>\n",
              "      <th>mfcc_8</th>\n",
              "      <th>mfcc_9</th>\n",
              "      <th>mfcc_10</th>\n",
              "      <th>mfcc_11</th>\n",
              "      <th>mfcc_12</th>\n",
              "      <th>mfcc_13</th>\n",
              "      <th>chroma_1</th>\n",
              "      <th>chroma_2</th>\n",
              "      <th>chroma_3</th>\n",
              "      <th>chroma_4</th>\n",
              "      <th>chroma_5</th>\n",
              "      <th>chroma_6</th>\n",
              "      <th>chroma_7</th>\n",
              "      <th>chroma_8</th>\n",
              "      <th>chroma_9</th>\n",
              "      <th>chroma_10</th>\n",
              "      <th>chroma_11</th>\n",
              "      <th>chroma_12</th>\n",
              "      <th>chroma_std</th>\n",
              "      <th>deltazcr</th>\n",
              "      <th>deltaenergy</th>\n",
              "      <th>deltaenergy_entropy</th>\n",
              "      <th>deltaspectral_centroid</th>\n",
              "      <th>deltaspectral_spread</th>\n",
              "      <th>deltaspectral_entropy</th>\n",
              "      <th>deltaspectral_flux</th>\n",
              "      <th>deltaspectral_rolloff</th>\n",
              "      <th>deltamfcc_1</th>\n",
              "      <th>deltamfcc_2</th>\n",
              "      <th>deltamfcc_3</th>\n",
              "      <th>deltamfcc_4</th>\n",
              "      <th>deltamfcc_5</th>\n",
              "      <th>deltamfcc_6</th>\n",
              "      <th>deltamfcc_7</th>\n",
              "      <th>deltamfcc_8</th>\n",
              "      <th>deltamfcc_9</th>\n",
              "      <th>deltamfcc_10</th>\n",
              "      <th>deltamfcc_11</th>\n",
              "      <th>deltamfcc_12</th>\n",
              "      <th>deltamfcc_13</th>\n",
              "      <th>deltachroma_1</th>\n",
              "      <th>deltachroma_2</th>\n",
              "      <th>deltachroma_3</th>\n",
              "      <th>deltachroma_4</th>\n",
              "      <th>deltachroma_5</th>\n",
              "      <th>deltachroma_6</th>\n",
              "      <th>deltachroma_7</th>\n",
              "      <th>deltachroma_8</th>\n",
              "      <th>deltachroma_9</th>\n",
              "      <th>deltachroma_10</th>\n",
              "      <th>deltachroma_11</th>\n",
              "      <th>deltachroma_12</th>\n",
              "      <th>deltachroma_std</th>\n",
              "    </tr>\n",
              "  </thead>\n",
              "  <tbody>\n",
              "    <tr>\n",
              "      <th>155</th>\n",
              "      <td>0.000394</td>\n",
              "      <td>0.000394</td>\n",
              "      <td>0.000401</td>\n",
              "      <td>0.000415</td>\n",
              "      <td>0.000336</td>\n",
              "      <td>0.000338</td>\n",
              "      <td>0.000259</td>\n",
              "      <td>0.00025</td>\n",
              "      <td>0.000177</td>\n",
              "      <td>0.00016</td>\n",
              "      <td>0.000132</td>\n",
              "      <td>0.000134</td>\n",
              "      <td>0.00104</td>\n",
              "      <td>0.00276</td>\n",
              "      <td>0.002153</td>\n",
              "      <td>0.002367</td>\n",
              "      <td>0.003731</td>\n",
              "      <td>0.002452</td>\n",
              "      <td>0.00213</td>\n",
              "      <td>0.002104</td>\n",
              "      <td>0.001542</td>\n",
              "      <td>0.00302</td>\n",
              "      <td>0.003379</td>\n",
              "      <td>0.004443</td>\n",
              "      <td>0.005644</td>\n",
              "      <td>0.002782</td>\n",
              "      <td>0.001432</td>\n",
              "      <td>0.003413</td>\n",
              "      <td>0.003163</td>\n",
              "      <td>0.002347</td>\n",
              "      <td>0.002219</td>\n",
              "      <td>0.002012</td>\n",
              "      <td>0.002199</td>\n",
              "      <td>0.001287</td>\n",
              "      <td>0.001076</td>\n",
              "      <td>0.001398</td>\n",
              "      <td>0.001511</td>\n",
              "      <td>0.00239</td>\n",
              "      <td>0.002355</td>\n",
              "      <td>0.002018</td>\n",
              "      <td>0.001992</td>\n",
              "      <td>0.001337</td>\n",
              "      <td>0.002303</td>\n",
              "      <td>0.003019</td>\n",
              "      <td>0.002174</td>\n",
              "      <td>0.002235</td>\n",
              "      <td>0.002295</td>\n",
              "      <td>0.001766</td>\n",
              "      <td>0.001869</td>\n",
              "      <td>0.001957</td>\n",
              "      <td>0.001724</td>\n",
              "      <td>0.001261</td>\n",
              "      <td>0.001426</td>\n",
              "      <td>0.002064</td>\n",
              "      <td>0.00153</td>\n",
              "      <td>0.001088</td>\n",
              "      <td>0.001271</td>\n",
              "      <td>0.001102</td>\n",
              "      <td>0.00094</td>\n",
              "      <td>0.000737</td>\n",
              "      <td>0.000973</td>\n",
              "      <td>0.001019</td>\n",
              "      <td>0.000479</td>\n",
              "      <td>0.000452</td>\n",
              "      <td>0.000511</td>\n",
              "      <td>0.000497</td>\n",
              "      <td>0.000969</td>\n",
              "      <td>0.001033</td>\n",
              "    </tr>\n",
              "  </tbody>\n",
              "</table>\n",
              "</div>"
            ],
            "text/plain": [
              "          zcr    energy  ...  deltachroma_12  deltachroma_std\n",
              "155  0.000394  0.000394  ...        0.000969         0.001033\n",
              "\n",
              "[1 rows x 68 columns]"
            ]
          },
          "metadata": {
            "tags": []
          },
          "execution_count": 43
        }
      ]
    },
    {
      "cell_type": "code",
      "metadata": {
        "id": "Sh_kXhhpH9KF",
        "outputId": "5143868f-2703-4b0d-9ffc-f825f4373ff9",
        "colab": {
          "base_uri": "https://localhost:8080/"
        }
      },
      "source": [
        "predictions = model.predict(x_test_data_list[0].iloc[[5]])\n",
        "print(predictions)"
      ],
      "execution_count": null,
      "outputs": [
        {
          "output_type": "stream",
          "text": [
            "[[9.9981600e-01 1.8396918e-04]]\n"
          ],
          "name": "stdout"
        }
      ]
    },
    {
      "cell_type": "markdown",
      "metadata": {
        "id": "nbXGPU2oIF60"
      },
      "source": [
        ""
      ]
    }
  ]
}